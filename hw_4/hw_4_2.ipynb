{
  "nbformat": 4,
  "nbformat_minor": 0,
  "metadata": {
    "colab": {
      "name": "CAP 5610 - Homework #4: Support Vector Machines (SVMs), Pt. 2",
      "provenance": [],
      "authorship_tag": "ABX9TyPP3laDGTje4doz30iJW2dt"
    },
    "kernelspec": {
      "name": "python3",
      "display_name": "Python 3"
    }
  },
  "cells": [
    {
      "cell_type": "markdown",
      "metadata": {
        "id": "9ok7v4Xb6tOl"
      },
      "source": [
        "# Homework #4: Support Vector Machines (SVMs)\n",
        "### Pt. 1: Task #5\n",
        "*CAP 5610, Fall '20*"
      ]
    },
    {
      "cell_type": "markdown",
      "metadata": {
        "id": "5tZN2OCu7FZR"
      },
      "source": [
        "# 1. Import Statements\n",
        "---"
      ]
    },
    {
      "cell_type": "code",
      "metadata": {
        "id": "6GlyK3IS7HqY"
      },
      "source": [
        "import numpy as np\n",
        "import matplotlib.pyplot as plt\n",
        "\n",
        "from sklearn import svm"
      ],
      "execution_count": 1,
      "outputs": []
    },
    {
      "cell_type": "markdown",
      "metadata": {
        "id": "mALaFu8L7Mkl"
      },
      "source": [
        "# 2. Generate the Data\n",
        "---"
      ]
    },
    {
      "cell_type": "code",
      "metadata": {
        "id": "h0OiHcU_7R-S"
      },
      "source": [
        "# Create the data array.\n",
        "X = np.array([[1, 1],\n",
        "              [2, 2],\n",
        "              [2, 0],\n",
        "              [0, 0],\n",
        "              [1, 0],\n",
        "              [0, 1]])"
      ],
      "execution_count": 2,
      "outputs": []
    },
    {
      "cell_type": "code",
      "metadata": {
        "id": "DeQI2Gy97dRI",
        "outputId": "037b701e-95a4-4420-de74-1bf33f2ee281",
        "colab": {
          "base_uri": "https://localhost:8080/",
          "height": 119
        }
      },
      "source": [
        "# Show the data array.\n",
        "X"
      ],
      "execution_count": 3,
      "outputs": [
        {
          "output_type": "execute_result",
          "data": {
            "text/plain": [
              "array([[1, 1],\n",
              "       [2, 2],\n",
              "       [2, 0],\n",
              "       [0, 0],\n",
              "       [1, 0],\n",
              "       [0, 1]])"
            ]
          },
          "metadata": {
            "tags": []
          },
          "execution_count": 3
        }
      ]
    },
    {
      "cell_type": "code",
      "metadata": {
        "id": "oiMgjCux7asc"
      },
      "source": [
        "# Create the labels array.\n",
        "y = np.array([1, 1, 1, -1, -1, -1])"
      ],
      "execution_count": 4,
      "outputs": []
    },
    {
      "cell_type": "code",
      "metadata": {
        "id": "WF3GJ7hw7go4",
        "outputId": "2695873a-964d-4105-9581-e49f38a39b0e",
        "colab": {
          "base_uri": "https://localhost:8080/",
          "height": 34
        }
      },
      "source": [
        "# Show the labels array.\n",
        "y"
      ],
      "execution_count": 5,
      "outputs": [
        {
          "output_type": "execute_result",
          "data": {
            "text/plain": [
              "array([ 1,  1,  1, -1, -1, -1])"
            ]
          },
          "metadata": {
            "tags": []
          },
          "execution_count": 5
        }
      ]
    },
    {
      "cell_type": "code",
      "metadata": {
        "id": "K29lPtuZDYq5",
        "outputId": "9609c8e0-b156-4ebd-915f-4df6950e83b2",
        "colab": {
          "base_uri": "https://localhost:8080/",
          "height": 314
        }
      },
      "source": [
        "# Set up the plot labels.\n",
        "plt.title('Data')\n",
        "ax = plt.gca()\n",
        "ax.set_xlabel('$x_1$')\n",
        "ax.set_ylabel('$x_2$')\n",
        "\n",
        "# Plot the points.\n",
        "plt.scatter(X[:, 0], X[:, 1], c=y, s=30, cmap=plt.cm.Paired)"
      ],
      "execution_count": 6,
      "outputs": [
        {
          "output_type": "execute_result",
          "data": {
            "text/plain": [
              "<matplotlib.collections.PathCollection at 0x7f098eddd4a8>"
            ]
          },
          "metadata": {
            "tags": []
          },
          "execution_count": 6
        },
        {
          "output_type": "display_data",
          "data": {
            "image/png": "[encoded data removed]",
            "text/plain": [
              "<Figure size 432x288 with 1 Axes>"
            ]
          },
          "metadata": {
            "tags": [],
            "needs_background": "light"
          }
        }
      ]
    },
    {
      "cell_type": "markdown",
      "metadata": {
        "id": "lmzaCqGN71md"
      },
      "source": [
        "# 3. Support Vector Machine\n",
        "---\n"
      ]
    },
    {
      "cell_type": "code",
      "metadata": {
        "id": "28DEEnls73vh"
      },
      "source": [
        "# Create and fit the SVM classification model.\n",
        "clf = svm.SVC(kernel='linear', C=1000)\n",
        "clf.fit(X, y);"
      ],
      "execution_count": 7,
      "outputs": []
    },
    {
      "cell_type": "code",
      "metadata": {
        "id": "mXTsLOn88dkG",
        "outputId": "02cdaaa0-f901-4b22-b0bc-e61a1f3eb648",
        "colab": {
          "base_uri": "https://localhost:8080/",
          "height": 297
        }
      },
      "source": [
        "# Plot the points.\n",
        "plt.scatter(X[:, 0], X[:, 1], c=y, s=30, cmap=plt.cm.Paired)\n",
        "\n",
        "# Get the decision model.\n",
        "ax = plt.gca()\n",
        "xlim = ax.get_xlim()\n",
        "ylim = ax.get_ylim()\n",
        "\n",
        "# Set up the plot labels.\n",
        "plt.title('Support Vector Machine')\n",
        "ax.set_xlabel('$x_1$')\n",
        "ax.set_ylabel('$x_2$')\n",
        "\n",
        "# Set up the grids.\n",
        "lin_x = np.linspace(xlim[0], xlim[1], 30)\n",
        "lin_y = np.linspace(ylim[0], ylim[1], 30)\n",
        "data_y, data_x = np.meshgrid(lin_y, lin_x)\n",
        "xy = np.vstack([data_x.ravel(), data_y.ravel()]).T\n",
        "Z = clf.decision_function(xy).reshape(data_x.shape)\n",
        "\n",
        "# Plot the hyperplane.\n",
        "ax.contour(data_x, data_y, Z, colors='k', levels=[-1, 0, 1], alpha=0.5, linestyles=['--', '-', '--'])\n",
        "\n",
        "# Plot the support vectors.\n",
        "ax.scatter(clf.support_vectors_[:, 0], clf.support_vectors_[:, 1], s=100, linewidth=1, facecolors='none', edgecolors='k')\n",
        "plt.show()"
      ],
      "execution_count": 8,
      "outputs": [
        {
          "output_type": "display_data",
          "data": {
            "image/png": "[encoded data removed]",
            "text/plain": [
              "<Figure size 432x288 with 1 Axes>"
            ]
          },
          "metadata": {
            "tags": [],
            "needs_background": "light"
          }
        }
      ]
    }
  ]
}